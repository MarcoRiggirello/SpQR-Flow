{
  "cells": [
    {
      "cell_type": "markdown",
      "metadata": {
        "id": "6BdEMIwwDJp-"
      },
      "source": [
        "# SpQR application on a Higgs dataset\n",
        "\n",
        "\n",
        "In this notebook we train the SpQR model on the dataset HIGGS.csv from [UCI Machine Learning Repository](https://archive.ics.uci.edu/ml/datasets/HIGGS).\n",
        "\n",
        "This notebook is divided essentially in five parts:\n",
        "\n",
        "    1. Downloading and preparing (slicing) the dataset\n",
        "    2. Plotting features (to get an initial idea)\n",
        "    3. Initializing the model\n",
        "    4. Fitting and evaluating performances\n",
        "    5. Plotting results\n",
        "\n",
        "\n",
        "## Package needed"
      ]
    },
    {
      "cell_type": "code",
      "source": [
        "! git clone https://github.com/MarcoRiggirello/SpQR-Flow.git\n",
        "! cd SpQR-Flow"
      ],
      "metadata": {
        "colab": {
          "base_uri": "https://localhost:8080/"
        },
        "id": "EGCHbAJBDNbI",
        "outputId": "f8422dee-5bab-423d-8740-72da9eed9343"
      },
      "execution_count": null,
      "outputs": [
        {
          "output_type": "stream",
          "name": "stdout",
          "text": [
            "fatal: destination path 'SpQR-Flow' already exists and is not an empty directory.\n"
          ]
        }
      ]
    },
    {
      "cell_type": "code",
      "source": [
        "import sys\n",
        "import os\n",
        "\n",
        "py_file_location = \"/content/SpQR-Flow/SpQR-Flow\"\n",
        "sys.path.append(os.path.abspath(py_file_location))"
      ],
      "metadata": {
        "id": "7lBeHOHDDjXo"
      },
      "execution_count": null,
      "outputs": []
    },
    {
      "cell_type": "code",
      "execution_count": null,
      "metadata": {
        "id": "6uCLKLOhDJqM"
      },
      "outputs": [],
      "source": [
        "import os\n",
        "import time\n",
        "\n",
        "import numpy as np\n",
        "import pandas as pd\n",
        "import seaborn as sns\n",
        "import imageio\n",
        "from PIL import Image\n",
        "\n",
        "from download import download_file"
      ]
    },
    {
      "cell_type": "markdown",
      "metadata": {
        "id": "Yo990nEuDJqU"
      },
      "source": [
        "## Downloading data\n",
        "\n",
        "To download the dataset we use the function download_file in the \\texttt{download.py} module: it will check if the dataset already exists in the current directory or download it from the internet."
      ]
    },
    {
      "cell_type": "code",
      "execution_count": null,
      "metadata": {
        "scrolled": true,
        "id": "XBnSktkvDJqW"
      },
      "outputs": [],
      "source": [
        "url = 'https://archive.ics.uci.edu/ml/machine-learning-databases/00280/HIGGS.csv.gz'\n",
        "file_path = os.path.join('../model_test/download/HIGGS.csv.gz')\n",
        "download_file(url, file_path)"
      ]
    },
    {
      "cell_type": "markdown",
      "metadata": {
        "id": "sPDBOrwBDJqZ"
      },
      "source": [
        "## Plotting features of the dataset\n",
        "\n",
        "We use seaborn to display scatterplot matrices of the correlation between features in the dataset."
      ]
    },
    {
      "cell_type": "code",
      "execution_count": null,
      "metadata": {
        "colab": {
          "base_uri": "https://localhost:8080/",
          "height": 139
        },
        "id": "lQxj0pyGDJqb",
        "outputId": "5a2dbc59-bdd1-4096-964d-4f0d8074a9bc"
      },
      "outputs": [
        {
          "output_type": "stream",
          "name": "stdout",
          "text": [
            "Time for reading all the data ~2 s\n"
          ]
        },
        {
          "output_type": "execute_result",
          "data": {
            "text/plain": [
              "\"\\n# Creating a gif of  correlation scatter plots                                                                        \\ntuple_var = [(1, 7), (8, 14), (15, 21), (22, 28)]\\ngrid_list = [sns.PairGrid(data,\\n                          hue='label',\\n                          vars=column_labels[init:end],\\n                          corner=True)\\n             for init, end in tuple_var]\\n\\nfig_list = []\\nfor i, grid in enumerate(grid_list):\\n    grid.map_diag(sns.kdeplot)\\n    grid.map_offdiag(sns.kdeplot)\\n    grid.add_legend()\\n    fig_name = f'sns_plot{i}.png'\\n    grid.savefig(fig_name)\\n    fig_list.append(imageio.imread(fig_name))\\n\\nimageio.mimsave('sns.gif',\\n                fig_list,\\n                duration = 5)\\nim = Image.open('sns.gif')\\nim.show()\\n\""
            ],
            "application/vnd.google.colaboratory.intrinsic+json": {
              "type": "string"
            }
          },
          "metadata": {},
          "execution_count": 7
        }
      ],
      "source": [
        "t0 = time.time()\n",
        "\n",
        "column_labels = ['label','lepton pT', 'lepton eta', 'lepton phi',\n",
        "                 'missing energy magnitude', 'missing energy phi',\n",
        "                 'jet 1 pt', 'jet 1 eta', 'jet 1 phi',\n",
        "                 'jet 1 b-tag', 'jet 2 pt', 'jet 2 eta',\n",
        "                 'jet 2 phi', 'jet 2 b-tag', 'jet 3 pt',\n",
        "                 'jet 3 eta', 'jet 3 phi', 'jet 3 b-tag',\n",
        "                 'jet 4 pt', 'jet 4 eta', 'jet 4 phi',\n",
        "                 'jet 4 b-tag', 'm_jj', 'm_jjj','m_lv',\n",
        "                 'm_jlv', 'm_bb', 'm_wbb', 'm_wwbb']\n",
        "data = pd.read_csv(file_path,\n",
        "                   header=0,\n",
        "                   names=column_labels,\n",
        "                   nrows=8192*16)\n",
        "t1 = time.time()\n",
        "print(f'Time for reading all the data ~{(t1-t0):.0f} s')\n",
        "\"\"\"\n",
        "# Creating a gif of  correlation scatter plots                                                                        \n",
        "tuple_var = [(1, 7), (8, 14), (15, 21), (22, 28)]\n",
        "grid_list = [sns.PairGrid(data,\n",
        "                          hue='label',\n",
        "                          vars=column_labels[init:end],\n",
        "                          corner=True)\n",
        "             for init, end in tuple_var]\n",
        "\n",
        "fig_list = []\n",
        "for i, grid in enumerate(grid_list):\n",
        "    grid.map_diag(sns.kdeplot)\n",
        "    grid.map_offdiag(sns.kdeplot)\n",
        "    grid.add_legend()\n",
        "    fig_name = f'sns_plot{i}.png'\n",
        "    grid.savefig(fig_name)\n",
        "    fig_list.append(imageio.imread(fig_name))\n",
        "\n",
        "imageio.mimsave('sns.gif',\n",
        "                fig_list,\n",
        "                duration = 5)\n",
        "im = Image.open('sns.gif')\n",
        "im.show()\n",
        "\"\"\""
      ]
    },
    {
      "cell_type": "markdown",
      "metadata": {
        "id": "vT0-rxzfDJqi"
      },
      "source": [
        "## Slicing data: train, validation, test\n",
        "\n",
        "We slice the dataframe to obtain train and test samples.\n",
        "Data appear to have mixed labels already, so that a simple slicing is sufficient to obtain good sampling.\n",
        "\n",
        "There are 11 milions entries: the last 500k are used as tests, as in the [original paper](https://www.nature.com/articles/ncomms5308.pdf)."
      ]
    },
    {
      "cell_type": "code",
      "execution_count": null,
      "metadata": {
        "id": "n38SvmLJDJqk"
      },
      "outputs": [],
      "source": [
        "BATCH_SIZE = 1024\n",
        "DATASET_SIZE = BATCH_SIZE * 16\n",
        "TEST_SIZE = BATCH_SIZE * 16\n",
        "\n",
        "data_train = data[column_labels[1:22]].head(DATASET_SIZE).astype('float32')\n",
        "data_test = data[column_labels[1:22]].tail(TEST_SIZE).astype('float32')\n",
        "\n",
        "y_data = data[column_labels[0]].head(DATASET_SIZE).astype('int32')\n",
        "y_test = data[column_labels[0]].tail(TEST_SIZE).astype('int32')\n"
      ]
    },
    {
      "cell_type": "code",
      "execution_count": null,
      "metadata": {
        "colab": {
          "base_uri": "https://localhost:8080/"
        },
        "id": "nYKhZTyDDJqm",
        "outputId": "5a7c1400-e92b-4d35-9476-df28e0a57ce5"
      },
      "outputs": [
        {
          "output_type": "stream",
          "name": "stdout",
          "text": [
            "   lepton pT  lepton eta  lepton phi  missing energy magnitude  \\\n",
            "0   0.907542    0.329147    0.359412                  1.497970   \n",
            "1   0.798835    1.470639   -1.635975                  0.453773   \n",
            "\n",
            "   missing energy phi  jet 1 pt  jet 1 eta  jet 1 phi  jet 1 b-tag  jet 2 pt  \\\n",
            "0           -0.313010  1.095531  -0.557525  -1.588230     2.173076  0.812581   \n",
            "1            0.425629  1.104875   1.282322   1.381664     0.000000  0.851737   \n",
            "\n",
            "   ...  jet 2 phi  jet 2 b-tag  jet 3 pt  jet 3 eta  jet 3 phi  jet 3 b-tag  \\\n",
            "0  ...   1.271015     2.214872  0.499994  -1.261432   0.732156     0.000000   \n",
            "1  ...  -0.819690     2.214872  0.993490   0.356080  -0.208778     2.548224   \n",
            "\n",
            "   jet 4 pt  jet 4 eta  jet 4 phi  jet 4 b-tag  \n",
            "0  0.398701  -1.138930  -0.000819          0.0  \n",
            "1  1.256955   1.128848   0.900461          0.0  \n",
            "\n",
            "[2 rows x 21 columns]\n",
            "Train shape: (16384, 21); Test shape: (16384, 21)\n",
            "0    1\n",
            "1    1\n",
            "Name: label, dtype: int32\n",
            "out data shape: (16384,); out test shape: (16384,)\n"
          ]
        }
      ],
      "source": [
        "print(data_train.head(2))\n",
        "print(f'Train shape: {data_train.shape}; Test shape: {data_test.shape}')\n",
        "\n",
        "print(y_data.head(2))\n",
        "print(f'out data shape: {y_data.shape}; out test shape: {y_test.shape}')"
      ]
    },
    {
      "cell_type": "markdown",
      "metadata": {
        "id": "_rAUyM7oDJqq"
      },
      "source": [
        "## Building the DIGLM model\n",
        "\n",
        "In the following block, we build our Deeply Invertible Generalized Linear Model (DIGLM) algorithm.\n",
        "We will then be able to train the model on labelled data.\n",
        "\n",
        "The steps to create and train the model are:\n",
        "\n",
        "1. Create the desired transformed outputs from a simple distribution with the same dimensionality as the input data;\n",
        "2. Initialize the NeuralSplineFlow bijector;\n",
        "3. Initialize the DIGLM model;\n",
        "4. Create the training step functions.\n"
      ]
    },
    {
      "cell_type": "code",
      "execution_count": null,
      "metadata": {
        "id": "R1qucOBbDJqr"
      },
      "outputs": [],
      "source": [
        "import tensorflow as tf\n",
        "from tensorflow_probability import distributions as tfd\n",
        "from tensorflow_probability import glm as tfglm\n",
        "from tensorflow_probability import bijectors as tfb\n",
        "\n",
        "from spqr import NeuralSplineFlow as NSF\n",
        "from diglm import DIGLM\n",
        "\n",
        "\n",
        "neural_spline_flow = NSF(splits=4)\n",
        "glm = tfglm.Bernoulli()\n",
        "NUM_FEATURES = 21\n",
        "\n",
        "diglm = DIGLM(neural_spline_flow, glm, NUM_FEATURES)"
      ]
    },
    {
      "cell_type": "code",
      "execution_count": null,
      "metadata": {
        "colab": {
          "base_uri": "https://localhost:8080/"
        },
        "id": "xRvC3ycbDJqs",
        "outputId": "b787e9fe-0151-4671-9aa0-9e30da94a084"
      },
      "outputs": [
        {
          "output_type": "stream",
          "name": "stdout",
          "text": [
            "True\n",
            "bijector  tfp.bijectors.NeuralSplineFlow(\"nsf\", batch_shape=[], min_event_ndims=1, bijectors=ListWrapper([RealNVP, RealNVP, RealNVP, RealNVP, RealNVP, RealNVP]))\n",
            "glm  tfp.glm.family.Bernoulli('bernoulli')\n"
          ]
        }
      ],
      "source": [
        "# testing DIGLM properties\n",
        "\n",
        "print(diglm.num_features == NUM_FEATURES)\n",
        "print('bijector ', diglm.bijector)\n",
        "print('glm ', diglm.glm)\n"
      ]
    },
    {
      "cell_type": "markdown",
      "metadata": {
        "id": "jEWZ7VSnDJqt"
      },
      "source": [
        "We define training functions to loop over train data."
      ]
    },
    {
      "cell_type": "code",
      "execution_count": null,
      "metadata": {
        "id": "DC_QtV97DJqu"
      },
      "outputs": [],
      "source": [
        "@tf.function\n",
        "def train_step(optimizer, target_sample):\n",
        "  with tf.GradientTape() as tape:\n",
        "    loss = -tf.reduce_mean(diglm.weighted_log_prob(target_sample))\n",
        "    variables = tape.watched_variables()\n",
        "    gradients = tape.gradient(loss, variables)\n",
        "    optimizer.apply_gradients(zip(gradients, variables))\n",
        "    return loss "
      ]
    },
    {
      "cell_type": "markdown",
      "metadata": {
        "id": "Gk3ASq82DJqv"
      },
      "source": [
        "Training!"
      ]
    },
    {
      "cell_type": "code",
      "execution_count": null,
      "metadata": {
        "id": "_Pg-b4H_DJqw"
      },
      "outputs": [],
      "source": [
        "LR = 1e-3\n",
        "NUM_EPOCHS = 100\n",
        "\n",
        "learning_rate = tf.Variable(LR, trainable=False)\n",
        "optimizer = tf.keras.optimizers.Adam(learning_rate)\n",
        "\n",
        "loss = 0\n",
        "history = []\n",
        "SEED = 42\n",
        "\n",
        "labels_batched = [y_data.sample(BATCH_SIZE, random_state=(SEED+i)) \n",
        "                for i in range(int(DATASET_SIZE/BATCH_SIZE))]\n",
        "features_batched = [data_train.sample(BATCH_SIZE, random_state=(SEED+i)) \n",
        "                for i in range(int(DATASET_SIZE/BATCH_SIZE))]\n",
        "\n",
        "dict_batched = [{'features': features_batched[i], 'labels': labels_batched[i]}\n",
        "              for i in range(len(features_batched))]"
      ]
    },
    {
      "cell_type": "code",
      "source": [
        "for epoch in tf.range(NUM_EPOCHS):\n",
        "  if epoch % 10 == 0:\n",
        "    print(f\"Epoch n. {epoch+1}. Loss={loss}.\")\n",
        "  for i in tf.range(len(dict_batched)):\n",
        "    loss = train_step(optimizer, dict_batched[i])\n",
        "    print(f'loss = {loss}')\n",
        "    history.append(loss)\n"
      ],
      "metadata": {
        "colab": {
          "base_uri": "https://localhost:8080/",
          "height": 400
        },
        "id": "FXKzJzJD6IuM",
        "outputId": "4b9ac4f3-e73e-4a3c-9fd0-5f1fbe1c4cdb"
      },
      "execution_count": null,
      "outputs": [
        {
          "output_type": "error",
          "ename": "KeyboardInterrupt",
          "evalue": "ignored",
          "traceback": [
            "\u001b[0;31m---------------------------------------------------------------------------\u001b[0m",
            "\u001b[0;31mKeyboardInterrupt\u001b[0m                         Traceback (most recent call last)",
            "\u001b[0;32m<ipython-input-19-4528255cd6d8>\u001b[0m in \u001b[0;36m<module>\u001b[0;34m()\u001b[0m\n\u001b[1;32m      3\u001b[0m     \u001b[0mprint\u001b[0m\u001b[0;34m(\u001b[0m\u001b[0;34mf\"Epoch n. {epoch+1}. Loss={loss}.\"\u001b[0m\u001b[0;34m)\u001b[0m\u001b[0;34m\u001b[0m\u001b[0;34m\u001b[0m\u001b[0m\n\u001b[1;32m      4\u001b[0m   \u001b[0;32mfor\u001b[0m \u001b[0mi\u001b[0m \u001b[0;32min\u001b[0m \u001b[0mtf\u001b[0m\u001b[0;34m.\u001b[0m\u001b[0mrange\u001b[0m\u001b[0;34m(\u001b[0m\u001b[0mlen\u001b[0m\u001b[0;34m(\u001b[0m\u001b[0mdict_batched\u001b[0m\u001b[0;34m)\u001b[0m\u001b[0;34m)\u001b[0m\u001b[0;34m:\u001b[0m\u001b[0;34m\u001b[0m\u001b[0;34m\u001b[0m\u001b[0m\n\u001b[0;32m----> 5\u001b[0;31m     \u001b[0mloss\u001b[0m \u001b[0;34m=\u001b[0m \u001b[0mtrain_step\u001b[0m\u001b[0;34m(\u001b[0m\u001b[0moptimizer\u001b[0m\u001b[0;34m,\u001b[0m \u001b[0mdict_batched\u001b[0m\u001b[0;34m[\u001b[0m\u001b[0mi\u001b[0m\u001b[0;34m]\u001b[0m\u001b[0;34m)\u001b[0m\u001b[0;34m\u001b[0m\u001b[0;34m\u001b[0m\u001b[0m\n\u001b[0m\u001b[1;32m      6\u001b[0m     \u001b[0mprint\u001b[0m\u001b[0;34m(\u001b[0m\u001b[0;34mf'loss = {loss}'\u001b[0m\u001b[0;34m)\u001b[0m\u001b[0;34m\u001b[0m\u001b[0;34m\u001b[0m\u001b[0m\n\u001b[1;32m      7\u001b[0m     \u001b[0mhistory\u001b[0m\u001b[0;34m.\u001b[0m\u001b[0mappend\u001b[0m\u001b[0;34m(\u001b[0m\u001b[0mloss\u001b[0m\u001b[0;34m)\u001b[0m\u001b[0;34m\u001b[0m\u001b[0;34m\u001b[0m\u001b[0m\n",
            "\u001b[0;32m/usr/local/lib/python3.7/dist-packages/tensorflow/python/util/traceback_utils.py\u001b[0m in \u001b[0;36merror_handler\u001b[0;34m(*args, **kwargs)\u001b[0m\n\u001b[1;32m    148\u001b[0m     \u001b[0mfiltered_tb\u001b[0m \u001b[0;34m=\u001b[0m \u001b[0;32mNone\u001b[0m\u001b[0;34m\u001b[0m\u001b[0;34m\u001b[0m\u001b[0m\n\u001b[1;32m    149\u001b[0m     \u001b[0;32mtry\u001b[0m\u001b[0;34m:\u001b[0m\u001b[0;34m\u001b[0m\u001b[0;34m\u001b[0m\u001b[0m\n\u001b[0;32m--> 150\u001b[0;31m       \u001b[0;32mreturn\u001b[0m \u001b[0mfn\u001b[0m\u001b[0;34m(\u001b[0m\u001b[0;34m*\u001b[0m\u001b[0margs\u001b[0m\u001b[0;34m,\u001b[0m \u001b[0;34m**\u001b[0m\u001b[0mkwargs\u001b[0m\u001b[0;34m)\u001b[0m\u001b[0;34m\u001b[0m\u001b[0;34m\u001b[0m\u001b[0m\n\u001b[0m\u001b[1;32m    151\u001b[0m     \u001b[0;32mexcept\u001b[0m \u001b[0mException\u001b[0m \u001b[0;32mas\u001b[0m \u001b[0me\u001b[0m\u001b[0;34m:\u001b[0m\u001b[0;34m\u001b[0m\u001b[0;34m\u001b[0m\u001b[0m\n\u001b[1;32m    152\u001b[0m       \u001b[0mfiltered_tb\u001b[0m \u001b[0;34m=\u001b[0m \u001b[0m_process_traceback_frames\u001b[0m\u001b[0;34m(\u001b[0m\u001b[0me\u001b[0m\u001b[0;34m.\u001b[0m\u001b[0m__traceback__\u001b[0m\u001b[0;34m)\u001b[0m\u001b[0;34m\u001b[0m\u001b[0;34m\u001b[0m\u001b[0m\n",
            "\u001b[0;32m/usr/local/lib/python3.7/dist-packages/tensorflow/python/eager/def_function.py\u001b[0m in \u001b[0;36m__call__\u001b[0;34m(self, *args, **kwds)\u001b[0m\n\u001b[1;32m    913\u001b[0m \u001b[0;34m\u001b[0m\u001b[0m\n\u001b[1;32m    914\u001b[0m       \u001b[0;32mwith\u001b[0m \u001b[0mOptionalXlaContext\u001b[0m\u001b[0;34m(\u001b[0m\u001b[0mself\u001b[0m\u001b[0;34m.\u001b[0m\u001b[0m_jit_compile\u001b[0m\u001b[0;34m)\u001b[0m\u001b[0;34m:\u001b[0m\u001b[0;34m\u001b[0m\u001b[0;34m\u001b[0m\u001b[0m\n\u001b[0;32m--> 915\u001b[0;31m         \u001b[0mresult\u001b[0m \u001b[0;34m=\u001b[0m \u001b[0mself\u001b[0m\u001b[0;34m.\u001b[0m\u001b[0m_call\u001b[0m\u001b[0;34m(\u001b[0m\u001b[0;34m*\u001b[0m\u001b[0margs\u001b[0m\u001b[0;34m,\u001b[0m \u001b[0;34m**\u001b[0m\u001b[0mkwds\u001b[0m\u001b[0;34m)\u001b[0m\u001b[0;34m\u001b[0m\u001b[0;34m\u001b[0m\u001b[0m\n\u001b[0m\u001b[1;32m    916\u001b[0m \u001b[0;34m\u001b[0m\u001b[0m\n\u001b[1;32m    917\u001b[0m       \u001b[0mnew_tracing_count\u001b[0m \u001b[0;34m=\u001b[0m \u001b[0mself\u001b[0m\u001b[0;34m.\u001b[0m\u001b[0mexperimental_get_tracing_count\u001b[0m\u001b[0;34m(\u001b[0m\u001b[0;34m)\u001b[0m\u001b[0;34m\u001b[0m\u001b[0;34m\u001b[0m\u001b[0m\n",
            "\u001b[0;32m/usr/local/lib/python3.7/dist-packages/tensorflow/python/eager/def_function.py\u001b[0m in \u001b[0;36m_call\u001b[0;34m(self, *args, **kwds)\u001b[0m\n\u001b[1;32m    945\u001b[0m       \u001b[0;31m# In this case we have created variables on the first call, so we run the\u001b[0m\u001b[0;34m\u001b[0m\u001b[0;34m\u001b[0m\u001b[0;34m\u001b[0m\u001b[0m\n\u001b[1;32m    946\u001b[0m       \u001b[0;31m# defunned version which is guaranteed to never create variables.\u001b[0m\u001b[0;34m\u001b[0m\u001b[0;34m\u001b[0m\u001b[0;34m\u001b[0m\u001b[0m\n\u001b[0;32m--> 947\u001b[0;31m       \u001b[0;32mreturn\u001b[0m \u001b[0mself\u001b[0m\u001b[0;34m.\u001b[0m\u001b[0m_stateless_fn\u001b[0m\u001b[0;34m(\u001b[0m\u001b[0;34m*\u001b[0m\u001b[0margs\u001b[0m\u001b[0;34m,\u001b[0m \u001b[0;34m**\u001b[0m\u001b[0mkwds\u001b[0m\u001b[0;34m)\u001b[0m  \u001b[0;31m# pylint: disable=not-callable\u001b[0m\u001b[0;34m\u001b[0m\u001b[0;34m\u001b[0m\u001b[0m\n\u001b[0m\u001b[1;32m    948\u001b[0m     \u001b[0;32melif\u001b[0m \u001b[0mself\u001b[0m\u001b[0;34m.\u001b[0m\u001b[0m_stateful_fn\u001b[0m \u001b[0;32mis\u001b[0m \u001b[0;32mnot\u001b[0m \u001b[0;32mNone\u001b[0m\u001b[0;34m:\u001b[0m\u001b[0;34m\u001b[0m\u001b[0;34m\u001b[0m\u001b[0m\n\u001b[1;32m    949\u001b[0m       \u001b[0;31m# Release the lock early so that multiple threads can perform the call\u001b[0m\u001b[0;34m\u001b[0m\u001b[0;34m\u001b[0m\u001b[0;34m\u001b[0m\u001b[0m\n",
            "\u001b[0;32m/usr/local/lib/python3.7/dist-packages/tensorflow/python/eager/function.py\u001b[0m in \u001b[0;36m__call__\u001b[0;34m(self, *args, **kwargs)\u001b[0m\n\u001b[1;32m   2955\u001b[0m        filtered_flat_args) = self._maybe_define_function(args, kwargs)\n\u001b[1;32m   2956\u001b[0m     return graph_function._call_flat(\n\u001b[0;32m-> 2957\u001b[0;31m         filtered_flat_args, captured_inputs=graph_function.captured_inputs)  # pylint: disable=protected-access\n\u001b[0m\u001b[1;32m   2958\u001b[0m \u001b[0;34m\u001b[0m\u001b[0m\n\u001b[1;32m   2959\u001b[0m   \u001b[0;34m@\u001b[0m\u001b[0mproperty\u001b[0m\u001b[0;34m\u001b[0m\u001b[0;34m\u001b[0m\u001b[0m\n",
            "\u001b[0;32m/usr/local/lib/python3.7/dist-packages/tensorflow/python/eager/function.py\u001b[0m in \u001b[0;36m_call_flat\u001b[0;34m(self, args, captured_inputs, cancellation_manager)\u001b[0m\n\u001b[1;32m   1852\u001b[0m       \u001b[0;31m# No tape is watching; skip to running the function.\u001b[0m\u001b[0;34m\u001b[0m\u001b[0;34m\u001b[0m\u001b[0;34m\u001b[0m\u001b[0m\n\u001b[1;32m   1853\u001b[0m       return self._build_call_outputs(self._inference_function.call(\n\u001b[0;32m-> 1854\u001b[0;31m           ctx, args, cancellation_manager=cancellation_manager))\n\u001b[0m\u001b[1;32m   1855\u001b[0m     forward_backward = self._select_forward_and_backward_functions(\n\u001b[1;32m   1856\u001b[0m         \u001b[0margs\u001b[0m\u001b[0;34m,\u001b[0m\u001b[0;34m\u001b[0m\u001b[0;34m\u001b[0m\u001b[0m\n",
            "\u001b[0;32m/usr/local/lib/python3.7/dist-packages/tensorflow/python/eager/function.py\u001b[0m in \u001b[0;36mcall\u001b[0;34m(self, ctx, args, cancellation_manager)\u001b[0m\n\u001b[1;32m    502\u001b[0m               \u001b[0minputs\u001b[0m\u001b[0;34m=\u001b[0m\u001b[0margs\u001b[0m\u001b[0;34m,\u001b[0m\u001b[0;34m\u001b[0m\u001b[0;34m\u001b[0m\u001b[0m\n\u001b[1;32m    503\u001b[0m               \u001b[0mattrs\u001b[0m\u001b[0;34m=\u001b[0m\u001b[0mattrs\u001b[0m\u001b[0;34m,\u001b[0m\u001b[0;34m\u001b[0m\u001b[0;34m\u001b[0m\u001b[0m\n\u001b[0;32m--> 504\u001b[0;31m               ctx=ctx)\n\u001b[0m\u001b[1;32m    505\u001b[0m         \u001b[0;32melse\u001b[0m\u001b[0;34m:\u001b[0m\u001b[0;34m\u001b[0m\u001b[0;34m\u001b[0m\u001b[0m\n\u001b[1;32m    506\u001b[0m           outputs = execute.execute_with_cancellation(\n",
            "\u001b[0;32m/usr/local/lib/python3.7/dist-packages/tensorflow/python/eager/execute.py\u001b[0m in \u001b[0;36mquick_execute\u001b[0;34m(op_name, num_outputs, inputs, attrs, ctx, name)\u001b[0m\n\u001b[1;32m     53\u001b[0m     \u001b[0mctx\u001b[0m\u001b[0;34m.\u001b[0m\u001b[0mensure_initialized\u001b[0m\u001b[0;34m(\u001b[0m\u001b[0;34m)\u001b[0m\u001b[0;34m\u001b[0m\u001b[0;34m\u001b[0m\u001b[0m\n\u001b[1;32m     54\u001b[0m     tensors = pywrap_tfe.TFE_Py_Execute(ctx._handle, device_name, op_name,\n\u001b[0;32m---> 55\u001b[0;31m                                         inputs, attrs, num_outputs)\n\u001b[0m\u001b[1;32m     56\u001b[0m   \u001b[0;32mexcept\u001b[0m \u001b[0mcore\u001b[0m\u001b[0;34m.\u001b[0m\u001b[0m_NotOkStatusException\u001b[0m \u001b[0;32mas\u001b[0m \u001b[0me\u001b[0m\u001b[0;34m:\u001b[0m\u001b[0;34m\u001b[0m\u001b[0;34m\u001b[0m\u001b[0m\n\u001b[1;32m     57\u001b[0m     \u001b[0;32mif\u001b[0m \u001b[0mname\u001b[0m \u001b[0;32mis\u001b[0m \u001b[0;32mnot\u001b[0m \u001b[0;32mNone\u001b[0m\u001b[0;34m:\u001b[0m\u001b[0;34m\u001b[0m\u001b[0;34m\u001b[0m\u001b[0m\n",
            "\u001b[0;31mKeyboardInterrupt\u001b[0m: "
          ]
        }
      ]
    },
    {
      "cell_type": "code",
      "source": [
        "import matplotlib.pyplot as plt\n",
        "\n",
        "\n",
        "loss_plot = np.array([np.array([i, float(loss)]) for i, loss in enumerate(history)])\n",
        "print(loss_plot[:, 0])\n",
        "plt.figure(1)\n",
        "plt.title(\"Training loss\")\n",
        "plt.xlabel(\"step\")\n",
        "plt.ylabel(\"-log_prob\")\n",
        "plt.plot(loss_plot[:, 0], loss_plot[:, 1])\n",
        "plt.show()"
      ],
      "metadata": {
        "colab": {
          "base_uri": "https://localhost:8080/",
          "height": 399
        },
        "id": "X3qnQfSZxSTo",
        "outputId": "94cccd68-072d-4967-dc46-dbe80adaee79"
      },
      "execution_count": null,
      "outputs": [
        {
          "output_type": "stream",
          "name": "stdout",
          "text": [
            "[ 0.  1.  2.  3.  4.  5.  6.  7.  8.  9. 10. 11. 12. 13. 14. 15. 16. 17.\n",
            " 18. 19. 20. 21. 22. 23. 24. 25. 26. 27. 28. 29. 30. 31. 32. 33. 34. 35.\n",
            " 36. 37. 38. 39. 40. 41. 42. 43. 44. 45. 46. 47. 48. 49. 50. 51. 52. 53.\n",
            " 54. 55. 56. 57. 58. 59. 60. 61. 62. 63. 64. 65. 66. 67. 68. 69. 70. 71.\n",
            " 72. 73. 74. 75. 76. 77. 78. 79. 80. 81. 82. 83. 84. 85. 86. 87. 88. 89.\n",
            " 90. 91. 92. 93. 94. 95. 96.]\n"
          ]
        },
        {
          "output_type": "display_data",
          "data": {
            "text/plain": [
              "<Figure size 432x288 with 1 Axes>"
            ],
            "image/png": "[encoded data removed]"
          },
          "metadata": {
            "needs_background": "light"
          }
        }
      ]
    }
  ],
  "metadata": {
    "kernelspec": {
      "display_name": "Python 3",
      "language": "python",
      "name": "python3"
    },
    "language_info": {
      "codemirror_mode": {
        "name": "ipython",
        "version": 3
      },
      "file_extension": ".py",
      "mimetype": "text/x-python",
      "name": "python",
      "nbconvert_exporter": "python",
      "pygments_lexer": "ipython3",
      "version": "3.10.4"
    },
    "colab": {
      "name": "model_higgs.ipynb",
      "provenance": [],
      "collapsed_sections": []
    },
    "accelerator": "GPU"
  },
  "nbformat": 4,
  "nbformat_minor": 0
}